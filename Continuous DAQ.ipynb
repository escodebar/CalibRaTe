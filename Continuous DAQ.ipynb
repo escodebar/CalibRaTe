{
 "cells": [
  {
   "cell_type": "code",
   "execution_count": 1,
   "metadata": {
    "collapsed": true
   },
   "outputs": [],
   "source": [
    "import api.daq as api\n",
    "import os\n",
    "import pickle\n",
    "import time\n",
    "import zmq\n",
    "\n",
    "from datetime import datetime\n",
    "from threading import Thread"
   ]
  },
  {
   "cell_type": "code",
   "execution_count": 2,
   "metadata": {
    "collapsed": false
   },
   "outputs": [
    {
     "name": "stdout",
     "output_type": "stream",
     "text": [
      "Help on module api.daq in api:\n",
      "\n",
      "NAME\n",
      "    api.daq\n",
      "\n",
      "FUNCTIONS\n",
      "    connected_febs(socket='tcp://localhost:5557')\n",
      "        Returns a list containing the serial numbers of the connected febs\n",
      "    \n",
      "    load_config_file(path='CONF/CITIROC_SC_PROFILE1.txt', febs=[])\n",
      "        Loads a configuration file for the given list of febs.\n",
      "        If the list of febs is empty, load configuration for all the febs.\n",
      "    \n",
      "    set_thresholds(values, febs=[])\n",
      "        Sets the threshold for the given febs.\n",
      "        If only one threshold is set, set both thresholds to the same value.\n",
      "        If the list of febs is empty, set the threshold for all the febs.\n",
      "    \n",
      "    set_voltages(values, febs=[])\n",
      "        Sets the voltages for the given febs.\n",
      "        If only one voltage is set, set all channels to the same value.\n",
      "        If the list of febs is empty, set the voltages for all the febs.\n",
      "    \n",
      "    start_histos(febs=[], events=1000, driver='tcp://localhost:5555', input_socket='tcp://localhost:5556', output_socket='tcp://localhost:9999', continuous=False, enable_all=False)\n",
      "        Starts histogram builders for the given list of febs.\n",
      "        If the list of febs is empty, start histogram builders for all the febs.\n",
      "    \n",
      "    task_to_data(data)\n",
      "        Unpacks a histos task into a tuple of data containing\n",
      "\n",
      "FILE\n",
      "    /home/verges/lhep/daq/api/daq.py\n",
      "\n",
      "\n"
     ]
    }
   ],
   "source": [
    "help(api)"
   ]
  },
  {
   "cell_type": "markdown",
   "metadata": {},
   "source": [
    "### Program options"
   ]
  },
  {
   "cell_type": "code",
   "execution_count": 3,
   "metadata": {
    "collapsed": false
   },
   "outputs": [],
   "source": [
    "# These are the options or program arguments\n",
    "# change these according to your needs\n",
    "events   = 5000\n",
    "driver   = 'tcp://localhost:5555'\n",
    "data     = 'tcp://localhost:5556'\n",
    "stats    = 'tcp://localhost:5557'\n",
    "sink     = 'tcp://localhost:6000'\n",
    "conf     = 'CONF/CITIROC_SC_PROFILE1.txt'"
   ]
  },
  {
   "cell_type": "markdown",
   "metadata": {},
   "source": [
    "### Connect to driver and get list of connected FEBs"
   ]
  },
  {
   "cell_type": "code",
   "execution_count": 4,
   "metadata": {
    "collapsed": true
   },
   "outputs": [],
   "source": [
    "context = zmq.Context()\n",
    "puller = context.socket(zmq.PULL)\n",
    "puller.bind('tcp://*:6000')"
   ]
  },
  {
   "cell_type": "code",
   "execution_count": 5,
   "metadata": {
    "collapsed": false
   },
   "outputs": [],
   "source": [
    "febs = api.connected_febs(socket=stats)\n",
    "api.load_config_file(path=conf, febs=febs)"
   ]
  },
  {
   "cell_type": "markdown",
   "metadata": {},
   "source": [
    "### Data adquisition"
   ]
  },
  {
   "cell_type": "code",
   "execution_count": null,
   "metadata": {
    "collapsed": false,
    "scrolled": false
   },
   "outputs": [],
   "source": [
    "if str(input(\"Start measurements?\")).lower()[0] == \"y\":\n",
    "        \n",
    "    path = str(input(\"where to save the data? [data/path/to/folder]: \"))\n",
    "    os.makedirs(path, exist_ok=True)\n",
    "    \n",
    "    while True:\n",
    "    \n",
    "        print(\"Started round at %s\" % str(datetime.now()))\n",
    "        histos = api.start_histos(\n",
    "            febs=febs,\n",
    "            events=events,\n",
    "            driver=driver,\n",
    "            input_socket=data,\n",
    "            output_socket=sink,\n",
    "            continuous=True\n",
    "        )\n",
    "\n",
    "        # Collect 10 histograms per module,\n",
    "        # since the event rates differ some modules\n",
    "        # will send more histograms than others\n",
    "        # In order to know when a \"round\" is over\n",
    "        # a list of counters is needed\n",
    "        \n",
    "        counters = [0]*len(febs)    \n",
    "        while min(counters) < 10:\n",
    "            task = puller.recv()\n",
    "            mac5, config, pedestals, gains = api.task_to_data(task)\n",
    "        \n",
    "            # Count up the task\n",
    "            counters[febs.index(mac5)] += 1\n",
    "\n",
    "            now = str(datetime.now())\n",
    "            print(now, \" - got histograms from FEB %d\" % mac5)\n",
    "        \n",
    "            f = open(\"%s/%02x-%s.task\" % (path, mac5, now), \"wb\")\n",
    "            pickle.dump(task, f)\n",
    "            f.close()\n",
    "            \n",
    "            f = open(\"%s/%02x-%s.histos\" % (path, mac5, now), \"wb\")\n",
    "            pickle.dump((mac5, config, pedestals, gains), f)\n",
    "            f.close()\n",
    "    \n",
    "        for hist in histos:\n",
    "            hist.terminate()\n",
    "    \n",
    "        print(\"Finished round at %s\" % str(datetime.now()))\n",
    "        \n",
    "        # Sleep for 60 seconds to allow to stop the observations\n",
    "        time.sleep(60)"
   ]
  }
 ],
 "metadata": {
  "kernelspec": {
   "display_name": "Python 3",
   "language": "python",
   "name": "python3"
  },
  "language_info": {
   "codemirror_mode": {
    "name": "ipython",
    "version": 3
   },
   "file_extension": ".py",
   "mimetype": "text/x-python",
   "name": "python",
   "nbconvert_exporter": "python",
   "pygments_lexer": "ipython3",
   "version": "3.5.2"
  }
 },
 "nbformat": 4,
 "nbformat_minor": 0
}
